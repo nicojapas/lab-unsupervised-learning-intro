{
 "cells": [
  {
   "cell_type": "markdown",
   "id": "piano-offset",
   "metadata": {},
   "source": [
    "![logo_ironhack_blue 7](https://user-images.githubusercontent.com/23629340/40541063-a07a0a8a-601a-11e8-91b5-2f13e4e6b441.png)\n",
    "\n",
    "# Lab | Unsupervised learning intro\n",
    "\n",
    "#### Instructions \n",
    "\n",
    "\n",
    "It's the moment to perform clustering on the songs you collected. Remember that the ultimate goal of this little project is to improve the recommendations of artists. Clustering the songs will allow the recommendation system to limit the scope of the recommendations to only songs that belong to the same cluster - songs with similar audio features.\n",
    "\n",
    "The experiments you did with the `Spotify` API and the Billboard web scraping will allow you to create a pipeline such that when the user enters a song, you:\n",
    "\n",
    "1. Check whether or not the song is in the Billboard Hot 200.\n",
    "2. Collect the audio features from the `Spotify` API.\n",
    "\n",
    "After that, you want to send the `Spotify` audio features of the submitted song to the clustering model, which should return a cluster number.\n",
    "\n",
    "We want to have as many songs as possible to create the clustering model, so we will add the songs you collected to a bigger dataset available on Kaggle containing 160 thousand songs."
   ]
  },
  {
   "cell_type": "code",
   "execution_count": 1,
   "id": "vulnerable-indiana",
   "metadata": {},
   "outputs": [],
   "source": [
    "from bs4 import BeautifulSoup\n",
    "import requests\n",
    "import math\n",
    "import numpy as np\n",
    "import spotipy\n",
    "from spotipy.oauth2 import SpotifyClientCredentials\n",
    "import pandas as pd\n",
    "from tqdm.notebook import tqdm\n",
    "from collections import defaultdict\n",
    "import getpass"
   ]
  },
  {
   "cell_type": "markdown",
   "id": "controlled-competition",
   "metadata": {},
   "source": [
    "Spotify credentials"
   ]
  },
  {
   "cell_type": "code",
   "execution_count": 2,
   "id": "regional-impact",
   "metadata": {},
   "outputs": [
    {
     "name": "stdout",
     "output_type": "stream",
     "text": [
      "input client_id········\n",
      "input client_secret········\n"
     ]
    }
   ],
   "source": [
    "client_id = getpass.getpass(prompt='input client_id') \n",
    "client_secret = getpass.getpass(prompt='input client_secret')"
   ]
  },
  {
   "cell_type": "code",
   "execution_count": 3,
   "id": "short-amazon",
   "metadata": {},
   "outputs": [],
   "source": [
    "sp = spotipy.Spotify(auth_manager=SpotifyClientCredentials(client_id=client_id,\n",
    "                                                           client_secret=client_secret))"
   ]
  },
  {
   "cell_type": "markdown",
   "id": "confident-validation",
   "metadata": {},
   "source": [
    "Get \"The Hot 100\" Billboard Songs"
   ]
  },
  {
   "cell_type": "code",
   "execution_count": 61,
   "id": "tribal-tuition",
   "metadata": {},
   "outputs": [],
   "source": [
    "url = \"https://www.billboard.com/charts/hot-100\""
   ]
  },
  {
   "cell_type": "code",
   "execution_count": 62,
   "id": "blocked-victim",
   "metadata": {},
   "outputs": [],
   "source": [
    "response = requests.get(url)\n",
    "soup = BeautifulSoup(response.content, 'html.parser')"
   ]
  },
  {
   "cell_type": "code",
   "execution_count": 63,
   "id": "golden-dublin",
   "metadata": {},
   "outputs": [
    {
     "data": {
      "text/html": [
       "<div>\n",
       "<style scoped>\n",
       "    .dataframe tbody tr th:only-of-type {\n",
       "        vertical-align: middle;\n",
       "    }\n",
       "\n",
       "    .dataframe tbody tr th {\n",
       "        vertical-align: top;\n",
       "    }\n",
       "\n",
       "    .dataframe thead th {\n",
       "        text-align: right;\n",
       "    }\n",
       "</style>\n",
       "<table border=\"1\" class=\"dataframe\">\n",
       "  <thead>\n",
       "    <tr style=\"text-align: right;\">\n",
       "      <th></th>\n",
       "      <th>title</th>\n",
       "      <th>artist</th>\n",
       "    </tr>\n",
       "  </thead>\n",
       "  <tbody>\n",
       "    <tr>\n",
       "      <th>0</th>\n",
       "      <td>Drivers License</td>\n",
       "      <td>Olivia Rodrigo</td>\n",
       "    </tr>\n",
       "    <tr>\n",
       "      <th>1</th>\n",
       "      <td>34+35</td>\n",
       "      <td>Ariana Grande</td>\n",
       "    </tr>\n",
       "    <tr>\n",
       "      <th>2</th>\n",
       "      <td>Calling My Phone</td>\n",
       "      <td>Lil Tjay Featuring 6LACK</td>\n",
       "    </tr>\n",
       "    <tr>\n",
       "      <th>3</th>\n",
       "      <td>Blinding Lights</td>\n",
       "      <td>The Weeknd</td>\n",
       "    </tr>\n",
       "    <tr>\n",
       "      <th>4</th>\n",
       "      <td>Up</td>\n",
       "      <td>Cardi B</td>\n",
       "    </tr>\n",
       "  </tbody>\n",
       "</table>\n",
       "</div>"
      ],
      "text/plain": [
       "              title                    artist\n",
       "0   Drivers License            Olivia Rodrigo\n",
       "1             34+35             Ariana Grande\n",
       "2  Calling My Phone  Lil Tjay Featuring 6LACK\n",
       "3   Blinding Lights                The Weeknd\n",
       "4                Up                   Cardi B"
      ]
     },
     "execution_count": 63,
     "metadata": {},
     "output_type": "execute_result"
    }
   ],
   "source": [
    "titles = []\n",
    "artists = []\n",
    "for tag in soup.find_all('span', 'chart-element__information__song text--truncate color--primary'):\n",
    "    titles.append(tag.get_text())\n",
    "for tag in soup.find_all('span', 'chart-element__information__artist text--truncate color--secondary'):\n",
    "    artists.append(tag.get_text())\n",
    "\n",
    "top100 = pd.DataFrame({'title':titles, 'artist':artists})\n",
    "top100.head()"
   ]
  },
  {
   "cell_type": "code",
   "execution_count": 64,
   "id": "agricultural-season",
   "metadata": {},
   "outputs": [
    {
     "data": {
      "text/plain": [
       "(100, 2)"
      ]
     },
     "execution_count": 64,
     "metadata": {},
     "output_type": "execute_result"
    }
   ],
   "source": [
    "top100.shape"
   ]
  },
  {
   "cell_type": "markdown",
   "id": "patient-allergy",
   "metadata": {},
   "source": [
    "Get many songs from Spotify"
   ]
  },
  {
   "cell_type": "code",
   "execution_count": 65,
   "id": "interim-commonwealth",
   "metadata": {},
   "outputs": [],
   "source": [
    "user = 'spotify'\n",
    "\n",
    "playlists = sp.user_playlists(user)\n",
    "playlist_uri = []\n",
    "playlist_names = []\n",
    "\n",
    "while playlists:\n",
    "    for playlist in playlists['items']:\n",
    "        playlist_uri.append(playlist['uri'])\n",
    "        playlist_names.append(playlist['name'])\n",
    "    if playlists['next']:\n",
    "        playlists = sp.next(playlists)\n",
    "    else:\n",
    "        playlists = None"
   ]
  },
  {
   "cell_type": "code",
   "execution_count": 66,
   "id": "reduced-somerset",
   "metadata": {},
   "outputs": [],
   "source": [
    "# playlist_names"
   ]
  },
  {
   "cell_type": "code",
   "execution_count": 67,
   "id": "introductory-launch",
   "metadata": {},
   "outputs": [],
   "source": [
    "def get_tracks_from_playlist(username, playlist_id):\n",
    "    results = sp.user_playlist_tracks(username, playlist_id)\n",
    "    tracks = results['items']\n",
    "    while results['next']:\n",
    "        results = sp.next(results)\n",
    "        tracks.extend(results['items'])\n",
    "    return tracks"
   ]
  },
  {
   "cell_type": "code",
   "execution_count": 68,
   "id": "demanding-princess",
   "metadata": {},
   "outputs": [],
   "source": [
    "def get_all_tracks(uri):\n",
    "\n",
    "    s_id = []\n",
    "    s_name = []\n",
    "    s_artists = []\n",
    "    \n",
    "    results = get_tracks_from_playlist(\"\",uri)\n",
    "    c = 0\n",
    "    for i in results:\n",
    "        if i['track'] != None:\n",
    "            s_id.append(\"missing value\" if i['track']['id'] == None else i['track']['id'])\n",
    "            s_name.append(i['track']['name'])\n",
    "            s_artists.append([j['name'] for j in i['track']['artists']])\n",
    "\n",
    "    return {'song_id':s_id, 'song_name':s_name, 'artists':s_artists}"
   ]
  },
  {
   "cell_type": "code",
   "execution_count": 69,
   "id": "assumed-agency",
   "metadata": {},
   "outputs": [
    {
     "data": {
      "application/vnd.jupyter.widget-view+json": {
       "model_id": "38f64432f2774bea8daede904839560d",
       "version_major": 2,
       "version_minor": 0
      },
      "text/plain": [
       "  0%|          | 0/1396 [00:00<?, ?it/s]"
      ]
     },
     "metadata": {},
     "output_type": "display_data"
    }
   ],
   "source": [
    "songs = {'song_id':[], 'song_name':[], 'artists':[]}\n",
    "\n",
    "for i in tqdm(playlist_uri):\n",
    "    d = get_all_tracks(i)\n",
    "    [songs['song_id'].append(i) for i in d['song_id']]\n",
    "    [songs['song_name'].append(i) for i in d['song_name']]\n",
    "    [songs['artists'].append(i) for i in d['artists']]"
   ]
  },
  {
   "cell_type": "code",
   "execution_count": 70,
   "id": "prostate-teacher",
   "metadata": {},
   "outputs": [
    {
     "data": {
      "text/html": [
       "<div>\n",
       "<style scoped>\n",
       "    .dataframe tbody tr th:only-of-type {\n",
       "        vertical-align: middle;\n",
       "    }\n",
       "\n",
       "    .dataframe tbody tr th {\n",
       "        vertical-align: top;\n",
       "    }\n",
       "\n",
       "    .dataframe thead th {\n",
       "        text-align: right;\n",
       "    }\n",
       "</style>\n",
       "<table border=\"1\" class=\"dataframe\">\n",
       "  <thead>\n",
       "    <tr style=\"text-align: right;\">\n",
       "      <th></th>\n",
       "      <th>song_id</th>\n",
       "      <th>song_name</th>\n",
       "      <th>artists</th>\n",
       "    </tr>\n",
       "  </thead>\n",
       "  <tbody>\n",
       "    <tr>\n",
       "      <th>0</th>\n",
       "      <td>5Kskr9LcNYa0tpt5f0ZEJx</td>\n",
       "      <td>Calling My Phone</td>\n",
       "      <td>[Lil Tjay, 6LACK]</td>\n",
       "    </tr>\n",
       "    <tr>\n",
       "      <th>1</th>\n",
       "      <td>5uEYRdEIh9Bo4fpjDd4Na9</td>\n",
       "      <td>Goosebumps - Remix</td>\n",
       "      <td>[Travis Scott, HVME]</td>\n",
       "    </tr>\n",
       "    <tr>\n",
       "      <th>2</th>\n",
       "      <td>1diS6nkxMQc3wwC4G1j0bh</td>\n",
       "      <td>We're Good</td>\n",
       "      <td>[Dua Lipa]</td>\n",
       "    </tr>\n",
       "    <tr>\n",
       "      <th>3</th>\n",
       "      <td>5QO79kh1waicV47BqGRL3g</td>\n",
       "      <td>Save Your Tears</td>\n",
       "      <td>[The Weeknd]</td>\n",
       "    </tr>\n",
       "    <tr>\n",
       "      <th>4</th>\n",
       "      <td>7lPN2DXiMsVn7XUKtOW1CS</td>\n",
       "      <td>drivers license</td>\n",
       "      <td>[Olivia Rodrigo]</td>\n",
       "    </tr>\n",
       "    <tr>\n",
       "      <th>...</th>\n",
       "      <td>...</td>\n",
       "      <td>...</td>\n",
       "      <td>...</td>\n",
       "    </tr>\n",
       "    <tr>\n",
       "      <th>102940</th>\n",
       "      <td>5kqIPrATaCc2LqxVWzQGbk</td>\n",
       "      <td>7 Years</td>\n",
       "      <td>[Lukas Graham]</td>\n",
       "    </tr>\n",
       "    <tr>\n",
       "      <th>102941</th>\n",
       "      <td>3FCto7hnn1shUyZL42YgfO</td>\n",
       "      <td>Piano Man</td>\n",
       "      <td>[Billy Joel]</td>\n",
       "    </tr>\n",
       "    <tr>\n",
       "      <th>102942</th>\n",
       "      <td>3XVBdLihbNbxUwZosxcGuJ</td>\n",
       "      <td>If I Ain't Got You</td>\n",
       "      <td>[Alicia Keys]</td>\n",
       "    </tr>\n",
       "    <tr>\n",
       "      <th>102943</th>\n",
       "      <td>6QPKYGnAW9QozVz2dSWqRg</td>\n",
       "      <td>Someone Like You</td>\n",
       "      <td>[Adele]</td>\n",
       "    </tr>\n",
       "    <tr>\n",
       "      <th>102944</th>\n",
       "      <td>1VdZ0vKfR5jneCmWIUAMxK</td>\n",
       "      <td>The A Team</td>\n",
       "      <td>[Ed Sheeran]</td>\n",
       "    </tr>\n",
       "  </tbody>\n",
       "</table>\n",
       "<p>102945 rows × 3 columns</p>\n",
       "</div>"
      ],
      "text/plain": [
       "                       song_id           song_name               artists\n",
       "0       5Kskr9LcNYa0tpt5f0ZEJx    Calling My Phone     [Lil Tjay, 6LACK]\n",
       "1       5uEYRdEIh9Bo4fpjDd4Na9  Goosebumps - Remix  [Travis Scott, HVME]\n",
       "2       1diS6nkxMQc3wwC4G1j0bh          We're Good            [Dua Lipa]\n",
       "3       5QO79kh1waicV47BqGRL3g     Save Your Tears          [The Weeknd]\n",
       "4       7lPN2DXiMsVn7XUKtOW1CS     drivers license      [Olivia Rodrigo]\n",
       "...                        ...                 ...                   ...\n",
       "102940  5kqIPrATaCc2LqxVWzQGbk             7 Years        [Lukas Graham]\n",
       "102941  3FCto7hnn1shUyZL42YgfO           Piano Man          [Billy Joel]\n",
       "102942  3XVBdLihbNbxUwZosxcGuJ  If I Ain't Got You         [Alicia Keys]\n",
       "102943  6QPKYGnAW9QozVz2dSWqRg    Someone Like You               [Adele]\n",
       "102944  1VdZ0vKfR5jneCmWIUAMxK          The A Team          [Ed Sheeran]\n",
       "\n",
       "[102945 rows x 3 columns]"
      ]
     },
     "execution_count": 70,
     "metadata": {},
     "output_type": "execute_result"
    }
   ],
   "source": [
    "df_songs = pd.DataFrame(songs)\n",
    "df_songs"
   ]
  },
  {
   "cell_type": "markdown",
   "id": "extended-greeting",
   "metadata": {},
   "source": [
    "Remove the duplicates"
   ]
  },
  {
   "cell_type": "code",
   "execution_count": 71,
   "id": "incoming-blink",
   "metadata": {
    "scrolled": true
   },
   "outputs": [
    {
     "data": {
      "text/html": [
       "<div>\n",
       "<style scoped>\n",
       "    .dataframe tbody tr th:only-of-type {\n",
       "        vertical-align: middle;\n",
       "    }\n",
       "\n",
       "    .dataframe tbody tr th {\n",
       "        vertical-align: top;\n",
       "    }\n",
       "\n",
       "    .dataframe thead th {\n",
       "        text-align: right;\n",
       "    }\n",
       "</style>\n",
       "<table border=\"1\" class=\"dataframe\">\n",
       "  <thead>\n",
       "    <tr style=\"text-align: right;\">\n",
       "      <th></th>\n",
       "      <th>song_id</th>\n",
       "      <th>song_name</th>\n",
       "      <th>artists</th>\n",
       "    </tr>\n",
       "  </thead>\n",
       "  <tbody>\n",
       "    <tr>\n",
       "      <th>0</th>\n",
       "      <td>5Kskr9LcNYa0tpt5f0ZEJx</td>\n",
       "      <td>Calling My Phone</td>\n",
       "      <td>[Lil Tjay, 6LACK]</td>\n",
       "    </tr>\n",
       "    <tr>\n",
       "      <th>1</th>\n",
       "      <td>5uEYRdEIh9Bo4fpjDd4Na9</td>\n",
       "      <td>Goosebumps - Remix</td>\n",
       "      <td>[Travis Scott, HVME]</td>\n",
       "    </tr>\n",
       "    <tr>\n",
       "      <th>2</th>\n",
       "      <td>1diS6nkxMQc3wwC4G1j0bh</td>\n",
       "      <td>We're Good</td>\n",
       "      <td>[Dua Lipa]</td>\n",
       "    </tr>\n",
       "    <tr>\n",
       "      <th>3</th>\n",
       "      <td>5QO79kh1waicV47BqGRL3g</td>\n",
       "      <td>Save Your Tears</td>\n",
       "      <td>[The Weeknd]</td>\n",
       "    </tr>\n",
       "    <tr>\n",
       "      <th>4</th>\n",
       "      <td>7lPN2DXiMsVn7XUKtOW1CS</td>\n",
       "      <td>drivers license</td>\n",
       "      <td>[Olivia Rodrigo]</td>\n",
       "    </tr>\n",
       "    <tr>\n",
       "      <th>...</th>\n",
       "      <td>...</td>\n",
       "      <td>...</td>\n",
       "      <td>...</td>\n",
       "    </tr>\n",
       "    <tr>\n",
       "      <th>81657</th>\n",
       "      <td>3Zuf70897YkrVRAsrBMMSF</td>\n",
       "      <td>You're The One That I Want - From \"Grease\" Ori...</td>\n",
       "      <td>[John Travolta, Olivia Newton-John]</td>\n",
       "    </tr>\n",
       "    <tr>\n",
       "      <th>81658</th>\n",
       "      <td>1MDoll6jK4rrk2BcFRP5i7</td>\n",
       "      <td>Hello</td>\n",
       "      <td>[Adele]</td>\n",
       "    </tr>\n",
       "    <tr>\n",
       "      <th>81659</th>\n",
       "      <td>0ygTmpa6uSotkBkTiwcMZ4</td>\n",
       "      <td>Warwick Avenue</td>\n",
       "      <td>[Duffy]</td>\n",
       "    </tr>\n",
       "    <tr>\n",
       "      <th>81660</th>\n",
       "      <td>7GJClzimvMSghjcrKxuf1M</td>\n",
       "      <td>Budapest</td>\n",
       "      <td>[George Ezra]</td>\n",
       "    </tr>\n",
       "    <tr>\n",
       "      <th>81661</th>\n",
       "      <td>3NNqqioprPCnYcVtDn3wvS</td>\n",
       "      <td>Catch &amp; Release (Deepend remix)</td>\n",
       "      <td>[Matt Simons, Deepend]</td>\n",
       "    </tr>\n",
       "  </tbody>\n",
       "</table>\n",
       "<p>81662 rows × 3 columns</p>\n",
       "</div>"
      ],
      "text/plain": [
       "                      song_id  \\\n",
       "0      5Kskr9LcNYa0tpt5f0ZEJx   \n",
       "1      5uEYRdEIh9Bo4fpjDd4Na9   \n",
       "2      1diS6nkxMQc3wwC4G1j0bh   \n",
       "3      5QO79kh1waicV47BqGRL3g   \n",
       "4      7lPN2DXiMsVn7XUKtOW1CS   \n",
       "...                       ...   \n",
       "81657  3Zuf70897YkrVRAsrBMMSF   \n",
       "81658  1MDoll6jK4rrk2BcFRP5i7   \n",
       "81659  0ygTmpa6uSotkBkTiwcMZ4   \n",
       "81660  7GJClzimvMSghjcrKxuf1M   \n",
       "81661  3NNqqioprPCnYcVtDn3wvS   \n",
       "\n",
       "                                               song_name  \\\n",
       "0                                       Calling My Phone   \n",
       "1                                     Goosebumps - Remix   \n",
       "2                                             We're Good   \n",
       "3                                        Save Your Tears   \n",
       "4                                        drivers license   \n",
       "...                                                  ...   \n",
       "81657  You're The One That I Want - From \"Grease\" Ori...   \n",
       "81658                                              Hello   \n",
       "81659                                     Warwick Avenue   \n",
       "81660                                           Budapest   \n",
       "81661                    Catch & Release (Deepend remix)   \n",
       "\n",
       "                                   artists  \n",
       "0                        [Lil Tjay, 6LACK]  \n",
       "1                     [Travis Scott, HVME]  \n",
       "2                               [Dua Lipa]  \n",
       "3                             [The Weeknd]  \n",
       "4                         [Olivia Rodrigo]  \n",
       "...                                    ...  \n",
       "81657  [John Travolta, Olivia Newton-John]  \n",
       "81658                              [Adele]  \n",
       "81659                              [Duffy]  \n",
       "81660                        [George Ezra]  \n",
       "81661               [Matt Simons, Deepend]  \n",
       "\n",
       "[81662 rows x 3 columns]"
      ]
     },
     "execution_count": 71,
     "metadata": {},
     "output_type": "execute_result"
    }
   ],
   "source": [
    "df_songs = df_songs.drop_duplicates(subset='song_id').reset_index(drop=True)\n",
    "df_songs"
   ]
  },
  {
   "cell_type": "markdown",
   "id": "identified-morgan",
   "metadata": {},
   "source": [
    "Let's get the features, 100 ids at a time"
   ]
  },
  {
   "cell_type": "code",
   "execution_count": 72,
   "id": "official-median",
   "metadata": {},
   "outputs": [
    {
     "data": {
      "application/vnd.jupyter.widget-view+json": {
       "model_id": "69e25e85f9054fe8968317889b930301",
       "version_major": 2,
       "version_minor": 0
      },
      "text/plain": [
       "  0%|          | 0/817 [00:00<?, ?it/s]"
      ]
     },
     "metadata": {},
     "output_type": "display_data"
    }
   ],
   "source": [
    "features_list = []\n",
    "for i in tqdm(range(math.ceil(df_songs.shape[0]/100))):\n",
    "    features_list.append(sp.audio_features(df_songs['song_id'].to_list()[i*100:(i+1)*100]))"
   ]
  },
  {
   "cell_type": "code",
   "execution_count": 73,
   "id": "twelve-fountain",
   "metadata": {},
   "outputs": [],
   "source": [
    "features = []\n",
    "[[(features.append(j) if j != None else None) for j in i] for i in features_list]\n",
    "pass"
   ]
  },
  {
   "cell_type": "code",
   "execution_count": 74,
   "id": "unnecessary-explorer",
   "metadata": {},
   "outputs": [],
   "source": [
    "dic = defaultdict(list)\n",
    "{dic[key].append(f[key]) for f in features for key in f}  \n",
    "df_features = pd.DataFrame(dict(dic))"
   ]
  },
  {
   "cell_type": "code",
   "execution_count": 75,
   "id": "intended-beads",
   "metadata": {},
   "outputs": [
    {
     "data": {
      "text/plain": [
       "(81662, 3)"
      ]
     },
     "execution_count": 75,
     "metadata": {},
     "output_type": "execute_result"
    }
   ],
   "source": [
    "df_songs.shape"
   ]
  },
  {
   "cell_type": "code",
   "execution_count": 76,
   "id": "handed-applicant",
   "metadata": {},
   "outputs": [
    {
     "data": {
      "text/plain": [
       "(81576, 18)"
      ]
     },
     "execution_count": 76,
     "metadata": {},
     "output_type": "execute_result"
    }
   ],
   "source": [
    "df_features.shape"
   ]
  },
  {
   "cell_type": "code",
   "execution_count": 77,
   "id": "employed-pizza",
   "metadata": {},
   "outputs": [],
   "source": [
    "df_features = df_features[df_features['speechiness']<0.8]"
   ]
  },
  {
   "cell_type": "code",
   "execution_count": 78,
   "id": "canadian-camping",
   "metadata": {},
   "outputs": [
    {
     "data": {
      "text/plain": [
       "Index(['song_id', 'song_name', 'artists', 'danceability', 'energy', 'key',\n",
       "       'loudness', 'mode', 'speechiness', 'acousticness', 'instrumentalness',\n",
       "       'liveness', 'valence', 'tempo', 'type', 'uri', 'track_href',\n",
       "       'analysis_url', 'duration_ms', 'time_signature'],\n",
       "      dtype='object')"
      ]
     },
     "execution_count": 78,
     "metadata": {},
     "output_type": "execute_result"
    }
   ],
   "source": [
    "df_all = df_songs.merge(df_features.rename({'id':'song_id'}, axis=1), on='song_id', how='right')\n",
    "df_all.columns"
   ]
  },
  {
   "cell_type": "code",
   "execution_count": 79,
   "id": "permanent-specialist",
   "metadata": {},
   "outputs": [],
   "source": [
    "df_all = df_all.drop(['type', 'uri', 'track_href', 'analysis_url'], axis=1)"
   ]
  },
  {
   "cell_type": "code",
   "execution_count": 80,
   "id": "rolled-innocent",
   "metadata": {},
   "outputs": [
    {
     "data": {
      "text/html": [
       "<div>\n",
       "<style scoped>\n",
       "    .dataframe tbody tr th:only-of-type {\n",
       "        vertical-align: middle;\n",
       "    }\n",
       "\n",
       "    .dataframe tbody tr th {\n",
       "        vertical-align: top;\n",
       "    }\n",
       "\n",
       "    .dataframe thead th {\n",
       "        text-align: right;\n",
       "    }\n",
       "</style>\n",
       "<table border=\"1\" class=\"dataframe\">\n",
       "  <thead>\n",
       "    <tr style=\"text-align: right;\">\n",
       "      <th></th>\n",
       "      <th>song_id</th>\n",
       "      <th>song_name</th>\n",
       "      <th>artists</th>\n",
       "      <th>danceability</th>\n",
       "      <th>energy</th>\n",
       "      <th>key</th>\n",
       "      <th>loudness</th>\n",
       "      <th>mode</th>\n",
       "      <th>speechiness</th>\n",
       "      <th>acousticness</th>\n",
       "      <th>instrumentalness</th>\n",
       "      <th>liveness</th>\n",
       "      <th>valence</th>\n",
       "      <th>tempo</th>\n",
       "      <th>duration_ms</th>\n",
       "      <th>time_signature</th>\n",
       "    </tr>\n",
       "  </thead>\n",
       "  <tbody>\n",
       "    <tr>\n",
       "      <th>0</th>\n",
       "      <td>5Kskr9LcNYa0tpt5f0ZEJx</td>\n",
       "      <td>Calling My Phone</td>\n",
       "      <td>[Lil Tjay, 6LACK]</td>\n",
       "      <td>0.907</td>\n",
       "      <td>0.393</td>\n",
       "      <td>4</td>\n",
       "      <td>-7.636</td>\n",
       "      <td>0</td>\n",
       "      <td>0.0539</td>\n",
       "      <td>0.4510</td>\n",
       "      <td>0.000001</td>\n",
       "      <td>0.135</td>\n",
       "      <td>0.202</td>\n",
       "      <td>104.949</td>\n",
       "      <td>205458</td>\n",
       "      <td>4</td>\n",
       "    </tr>\n",
       "    <tr>\n",
       "      <th>1</th>\n",
       "      <td>5uEYRdEIh9Bo4fpjDd4Na9</td>\n",
       "      <td>Goosebumps - Remix</td>\n",
       "      <td>[Travis Scott, HVME]</td>\n",
       "      <td>0.841</td>\n",
       "      <td>0.593</td>\n",
       "      <td>1</td>\n",
       "      <td>-7.846</td>\n",
       "      <td>1</td>\n",
       "      <td>0.0379</td>\n",
       "      <td>0.4180</td>\n",
       "      <td>0.000000</td>\n",
       "      <td>0.124</td>\n",
       "      <td>0.808</td>\n",
       "      <td>124.917</td>\n",
       "      <td>162803</td>\n",
       "      <td>4</td>\n",
       "    </tr>\n",
       "    <tr>\n",
       "      <th>2</th>\n",
       "      <td>1diS6nkxMQc3wwC4G1j0bh</td>\n",
       "      <td>We're Good</td>\n",
       "      <td>[Dua Lipa]</td>\n",
       "      <td>0.722</td>\n",
       "      <td>0.588</td>\n",
       "      <td>6</td>\n",
       "      <td>-5.932</td>\n",
       "      <td>1</td>\n",
       "      <td>0.0544</td>\n",
       "      <td>0.0319</td>\n",
       "      <td>0.000000</td>\n",
       "      <td>0.183</td>\n",
       "      <td>0.590</td>\n",
       "      <td>134.010</td>\n",
       "      <td>165507</td>\n",
       "      <td>4</td>\n",
       "    </tr>\n",
       "    <tr>\n",
       "      <th>3</th>\n",
       "      <td>5QO79kh1waicV47BqGRL3g</td>\n",
       "      <td>Save Your Tears</td>\n",
       "      <td>[The Weeknd]</td>\n",
       "      <td>0.680</td>\n",
       "      <td>0.826</td>\n",
       "      <td>0</td>\n",
       "      <td>-5.487</td>\n",
       "      <td>1</td>\n",
       "      <td>0.0309</td>\n",
       "      <td>0.0212</td>\n",
       "      <td>0.000012</td>\n",
       "      <td>0.543</td>\n",
       "      <td>0.644</td>\n",
       "      <td>118.051</td>\n",
       "      <td>215627</td>\n",
       "      <td>4</td>\n",
       "    </tr>\n",
       "    <tr>\n",
       "      <th>4</th>\n",
       "      <td>7lPN2DXiMsVn7XUKtOW1CS</td>\n",
       "      <td>drivers license</td>\n",
       "      <td>[Olivia Rodrigo]</td>\n",
       "      <td>0.585</td>\n",
       "      <td>0.436</td>\n",
       "      <td>10</td>\n",
       "      <td>-8.761</td>\n",
       "      <td>1</td>\n",
       "      <td>0.0601</td>\n",
       "      <td>0.7210</td>\n",
       "      <td>0.000013</td>\n",
       "      <td>0.105</td>\n",
       "      <td>0.132</td>\n",
       "      <td>143.874</td>\n",
       "      <td>242014</td>\n",
       "      <td>4</td>\n",
       "    </tr>\n",
       "  </tbody>\n",
       "</table>\n",
       "</div>"
      ],
      "text/plain": [
       "                  song_id           song_name               artists  \\\n",
       "0  5Kskr9LcNYa0tpt5f0ZEJx    Calling My Phone     [Lil Tjay, 6LACK]   \n",
       "1  5uEYRdEIh9Bo4fpjDd4Na9  Goosebumps - Remix  [Travis Scott, HVME]   \n",
       "2  1diS6nkxMQc3wwC4G1j0bh          We're Good            [Dua Lipa]   \n",
       "3  5QO79kh1waicV47BqGRL3g     Save Your Tears          [The Weeknd]   \n",
       "4  7lPN2DXiMsVn7XUKtOW1CS     drivers license      [Olivia Rodrigo]   \n",
       "\n",
       "   danceability  energy  key  loudness  mode  speechiness  acousticness  \\\n",
       "0         0.907   0.393    4    -7.636     0       0.0539        0.4510   \n",
       "1         0.841   0.593    1    -7.846     1       0.0379        0.4180   \n",
       "2         0.722   0.588    6    -5.932     1       0.0544        0.0319   \n",
       "3         0.680   0.826    0    -5.487     1       0.0309        0.0212   \n",
       "4         0.585   0.436   10    -8.761     1       0.0601        0.7210   \n",
       "\n",
       "   instrumentalness  liveness  valence    tempo  duration_ms  time_signature  \n",
       "0          0.000001     0.135    0.202  104.949       205458               4  \n",
       "1          0.000000     0.124    0.808  124.917       162803               4  \n",
       "2          0.000000     0.183    0.590  134.010       165507               4  \n",
       "3          0.000012     0.543    0.644  118.051       215627               4  \n",
       "4          0.000013     0.105    0.132  143.874       242014               4  "
      ]
     },
     "execution_count": 80,
     "metadata": {},
     "output_type": "execute_result"
    }
   ],
   "source": [
    "df_all.head()"
   ]
  },
  {
   "cell_type": "markdown",
   "id": "sunrise-education",
   "metadata": {},
   "source": [
    "Feature selection"
   ]
  },
  {
   "cell_type": "code",
   "execution_count": 81,
   "id": "nervous-enhancement",
   "metadata": {},
   "outputs": [],
   "source": [
    "X_cont = df_all[['danceability','energy','loudness','speechiness',\n",
    "                       'acousticness','instrumentalness','liveness','valence',\n",
    "                       'tempo','duration_ms']]"
   ]
  },
  {
   "cell_type": "code",
   "execution_count": 82,
   "id": "palestinian-tennessee",
   "metadata": {},
   "outputs": [],
   "source": [
    "X_disc = df_all[['key','mode','time_signature']]"
   ]
  },
  {
   "cell_type": "markdown",
   "id": "adolescent-chaos",
   "metadata": {},
   "source": [
    "Standardize"
   ]
  },
  {
   "cell_type": "code",
   "execution_count": 83,
   "id": "available-purpose",
   "metadata": {},
   "outputs": [],
   "source": [
    "from sklearn.preprocessing import StandardScaler\n",
    "scaler = StandardScaler()\n",
    "X_cont_st = scaler.fit_transform(X_cont)\n",
    "X_cont_st = pd.DataFrame(X_cont_st, columns=X_cont.columns)"
   ]
  },
  {
   "cell_type": "markdown",
   "id": "optical-synthetic",
   "metadata": {},
   "source": [
    "No need to encode the discrete variables"
   ]
  },
  {
   "cell_type": "code",
   "execution_count": 84,
   "id": "driving-cable",
   "metadata": {},
   "outputs": [
    {
     "data": {
      "text/html": [
       "<div>\n",
       "<style scoped>\n",
       "    .dataframe tbody tr th:only-of-type {\n",
       "        vertical-align: middle;\n",
       "    }\n",
       "\n",
       "    .dataframe tbody tr th {\n",
       "        vertical-align: top;\n",
       "    }\n",
       "\n",
       "    .dataframe thead th {\n",
       "        text-align: right;\n",
       "    }\n",
       "</style>\n",
       "<table border=\"1\" class=\"dataframe\">\n",
       "  <thead>\n",
       "    <tr style=\"text-align: right;\">\n",
       "      <th></th>\n",
       "      <th>key</th>\n",
       "      <th>mode</th>\n",
       "      <th>time_signature</th>\n",
       "    </tr>\n",
       "  </thead>\n",
       "  <tbody>\n",
       "    <tr>\n",
       "      <th>0</th>\n",
       "      <td>4</td>\n",
       "      <td>0</td>\n",
       "      <td>4</td>\n",
       "    </tr>\n",
       "    <tr>\n",
       "      <th>1</th>\n",
       "      <td>1</td>\n",
       "      <td>1</td>\n",
       "      <td>4</td>\n",
       "    </tr>\n",
       "    <tr>\n",
       "      <th>2</th>\n",
       "      <td>6</td>\n",
       "      <td>1</td>\n",
       "      <td>4</td>\n",
       "    </tr>\n",
       "    <tr>\n",
       "      <th>3</th>\n",
       "      <td>0</td>\n",
       "      <td>1</td>\n",
       "      <td>4</td>\n",
       "    </tr>\n",
       "    <tr>\n",
       "      <th>4</th>\n",
       "      <td>10</td>\n",
       "      <td>1</td>\n",
       "      <td>4</td>\n",
       "    </tr>\n",
       "    <tr>\n",
       "      <th>...</th>\n",
       "      <td>...</td>\n",
       "      <td>...</td>\n",
       "      <td>...</td>\n",
       "    </tr>\n",
       "    <tr>\n",
       "      <th>76291</th>\n",
       "      <td>0</td>\n",
       "      <td>1</td>\n",
       "      <td>4</td>\n",
       "    </tr>\n",
       "    <tr>\n",
       "      <th>76292</th>\n",
       "      <td>5</td>\n",
       "      <td>0</td>\n",
       "      <td>4</td>\n",
       "    </tr>\n",
       "    <tr>\n",
       "      <th>76293</th>\n",
       "      <td>0</td>\n",
       "      <td>0</td>\n",
       "      <td>4</td>\n",
       "    </tr>\n",
       "    <tr>\n",
       "      <th>76294</th>\n",
       "      <td>5</td>\n",
       "      <td>1</td>\n",
       "      <td>4</td>\n",
       "    </tr>\n",
       "    <tr>\n",
       "      <th>76295</th>\n",
       "      <td>1</td>\n",
       "      <td>0</td>\n",
       "      <td>4</td>\n",
       "    </tr>\n",
       "  </tbody>\n",
       "</table>\n",
       "<p>76296 rows × 3 columns</p>\n",
       "</div>"
      ],
      "text/plain": [
       "      key mode time_signature\n",
       "0       4    0              4\n",
       "1       1    1              4\n",
       "2       6    1              4\n",
       "3       0    1              4\n",
       "4      10    1              4\n",
       "...    ..  ...            ...\n",
       "76291   0    1              4\n",
       "76292   5    0              4\n",
       "76293   0    0              4\n",
       "76294   5    1              4\n",
       "76295   1    0              4\n",
       "\n",
       "[76296 rows x 3 columns]"
      ]
     },
     "execution_count": 84,
     "metadata": {},
     "output_type": "execute_result"
    }
   ],
   "source": [
    "X_disc = X_disc.astype('object')\n",
    "X_disc"
   ]
  },
  {
   "cell_type": "markdown",
   "id": "angry-literacy",
   "metadata": {},
   "source": [
    "Join all features"
   ]
  },
  {
   "cell_type": "code",
   "execution_count": 85,
   "id": "accepted-philadelphia",
   "metadata": {},
   "outputs": [
    {
     "data": {
      "text/html": [
       "<div>\n",
       "<style scoped>\n",
       "    .dataframe tbody tr th:only-of-type {\n",
       "        vertical-align: middle;\n",
       "    }\n",
       "\n",
       "    .dataframe tbody tr th {\n",
       "        vertical-align: top;\n",
       "    }\n",
       "\n",
       "    .dataframe thead th {\n",
       "        text-align: right;\n",
       "    }\n",
       "</style>\n",
       "<table border=\"1\" class=\"dataframe\">\n",
       "  <thead>\n",
       "    <tr style=\"text-align: right;\">\n",
       "      <th></th>\n",
       "      <th>danceability</th>\n",
       "      <th>energy</th>\n",
       "      <th>loudness</th>\n",
       "      <th>speechiness</th>\n",
       "      <th>acousticness</th>\n",
       "      <th>instrumentalness</th>\n",
       "      <th>liveness</th>\n",
       "      <th>valence</th>\n",
       "      <th>tempo</th>\n",
       "      <th>duration_ms</th>\n",
       "      <th>key</th>\n",
       "      <th>mode</th>\n",
       "      <th>time_signature</th>\n",
       "    </tr>\n",
       "  </thead>\n",
       "  <tbody>\n",
       "    <tr>\n",
       "      <th>0</th>\n",
       "      <td>1.951242</td>\n",
       "      <td>-0.498901</td>\n",
       "      <td>0.432216</td>\n",
       "      <td>-0.297020</td>\n",
       "      <td>0.167328</td>\n",
       "      <td>-0.597743</td>\n",
       "      <td>-0.311410</td>\n",
       "      <td>-0.867494</td>\n",
       "      <td>-0.390703</td>\n",
       "      <td>-0.219755</td>\n",
       "      <td>4</td>\n",
       "      <td>0</td>\n",
       "      <td>4</td>\n",
       "    </tr>\n",
       "    <tr>\n",
       "      <th>1</th>\n",
       "      <td>1.604944</td>\n",
       "      <td>0.188210</td>\n",
       "      <td>0.402628</td>\n",
       "      <td>-0.434974</td>\n",
       "      <td>0.077949</td>\n",
       "      <td>-0.597746</td>\n",
       "      <td>-0.381398</td>\n",
       "      <td>1.454091</td>\n",
       "      <td>0.234270</td>\n",
       "      <td>-0.490548</td>\n",
       "      <td>1</td>\n",
       "      <td>1</td>\n",
       "      <td>4</td>\n",
       "    </tr>\n",
       "    <tr>\n",
       "      <th>2</th>\n",
       "      <td>0.980559</td>\n",
       "      <td>0.171032</td>\n",
       "      <td>0.672303</td>\n",
       "      <td>-0.292709</td>\n",
       "      <td>-0.967785</td>\n",
       "      <td>-0.597746</td>\n",
       "      <td>-0.006007</td>\n",
       "      <td>0.618934</td>\n",
       "      <td>0.518870</td>\n",
       "      <td>-0.473382</td>\n",
       "      <td>6</td>\n",
       "      <td>1</td>\n",
       "      <td>4</td>\n",
       "    </tr>\n",
       "    <tr>\n",
       "      <th>3</th>\n",
       "      <td>0.760188</td>\n",
       "      <td>0.988694</td>\n",
       "      <td>0.735002</td>\n",
       "      <td>-0.495328</td>\n",
       "      <td>-0.996766</td>\n",
       "      <td>-0.597711</td>\n",
       "      <td>2.284515</td>\n",
       "      <td>0.825807</td>\n",
       "      <td>0.019373</td>\n",
       "      <td>-0.155197</td>\n",
       "      <td>0</td>\n",
       "      <td>1</td>\n",
       "      <td>4</td>\n",
       "    </tr>\n",
       "    <tr>\n",
       "      <th>4</th>\n",
       "      <td>0.261729</td>\n",
       "      <td>-0.351172</td>\n",
       "      <td>0.273708</td>\n",
       "      <td>-0.243563</td>\n",
       "      <td>0.898610</td>\n",
       "      <td>-0.597709</td>\n",
       "      <td>-0.502286</td>\n",
       "      <td>-1.135663</td>\n",
       "      <td>0.827600</td>\n",
       "      <td>0.012319</td>\n",
       "      <td>10</td>\n",
       "      <td>1</td>\n",
       "      <td>4</td>\n",
       "    </tr>\n",
       "    <tr>\n",
       "      <th>...</th>\n",
       "      <td>...</td>\n",
       "      <td>...</td>\n",
       "      <td>...</td>\n",
       "      <td>...</td>\n",
       "      <td>...</td>\n",
       "      <td>...</td>\n",
       "      <td>...</td>\n",
       "      <td>...</td>\n",
       "      <td>...</td>\n",
       "      <td>...</td>\n",
       "      <td>...</td>\n",
       "      <td>...</td>\n",
       "      <td>...</td>\n",
       "    </tr>\n",
       "    <tr>\n",
       "      <th>76291</th>\n",
       "      <td>1.132720</td>\n",
       "      <td>0.737899</td>\n",
       "      <td>0.353032</td>\n",
       "      <td>0.044414</td>\n",
       "      <td>-0.439366</td>\n",
       "      <td>-0.595498</td>\n",
       "      <td>0.159420</td>\n",
       "      <td>1.323837</td>\n",
       "      <td>-0.327260</td>\n",
       "      <td>-0.454591</td>\n",
       "      <td>0</td>\n",
       "      <td>1</td>\n",
       "      <td>4</td>\n",
       "    </tr>\n",
       "    <tr>\n",
       "      <th>76292</th>\n",
       "      <td>-0.336421</td>\n",
       "      <td>-0.368350</td>\n",
       "      <td>0.644547</td>\n",
       "      <td>-0.466875</td>\n",
       "      <td>-0.163104</td>\n",
       "      <td>-0.597746</td>\n",
       "      <td>-0.626993</td>\n",
       "      <td>-0.534197</td>\n",
       "      <td>1.269100</td>\n",
       "      <td>0.351886</td>\n",
       "      <td>5</td>\n",
       "      <td>0</td>\n",
       "      <td>4</td>\n",
       "    </tr>\n",
       "    <tr>\n",
       "      <th>76293</th>\n",
       "      <td>-0.220989</td>\n",
       "      <td>0.177903</td>\n",
       "      <td>0.688929</td>\n",
       "      <td>-0.423765</td>\n",
       "      <td>-0.136019</td>\n",
       "      <td>-0.597746</td>\n",
       "      <td>-0.400486</td>\n",
       "      <td>0.281806</td>\n",
       "      <td>1.642432</td>\n",
       "      <td>-0.086888</td>\n",
       "      <td>0</td>\n",
       "      <td>0</td>\n",
       "      <td>4</td>\n",
       "    </tr>\n",
       "    <tr>\n",
       "      <th>76294</th>\n",
       "      <td>0.938584</td>\n",
       "      <td>-0.299639</td>\n",
       "      <td>0.343170</td>\n",
       "      <td>-0.523781</td>\n",
       "      <td>-0.815029</td>\n",
       "      <td>-0.597746</td>\n",
       "      <td>-0.483199</td>\n",
       "      <td>-0.085970</td>\n",
       "      <td>0.324098</td>\n",
       "      <td>-0.249834</td>\n",
       "      <td>5</td>\n",
       "      <td>1</td>\n",
       "      <td>4</td>\n",
       "    </tr>\n",
       "    <tr>\n",
       "      <th>76295</th>\n",
       "      <td>1.578710</td>\n",
       "      <td>-0.134732</td>\n",
       "      <td>0.115763</td>\n",
       "      <td>-0.348753</td>\n",
       "      <td>0.332543</td>\n",
       "      <td>-0.594904</td>\n",
       "      <td>-0.464111</td>\n",
       "      <td>-1.223776</td>\n",
       "      <td>-0.388731</td>\n",
       "      <td>-0.278535</td>\n",
       "      <td>1</td>\n",
       "      <td>0</td>\n",
       "      <td>4</td>\n",
       "    </tr>\n",
       "  </tbody>\n",
       "</table>\n",
       "<p>76296 rows × 13 columns</p>\n",
       "</div>"
      ],
      "text/plain": [
       "       danceability    energy  loudness  speechiness  acousticness  \\\n",
       "0          1.951242 -0.498901  0.432216    -0.297020      0.167328   \n",
       "1          1.604944  0.188210  0.402628    -0.434974      0.077949   \n",
       "2          0.980559  0.171032  0.672303    -0.292709     -0.967785   \n",
       "3          0.760188  0.988694  0.735002    -0.495328     -0.996766   \n",
       "4          0.261729 -0.351172  0.273708    -0.243563      0.898610   \n",
       "...             ...       ...       ...          ...           ...   \n",
       "76291      1.132720  0.737899  0.353032     0.044414     -0.439366   \n",
       "76292     -0.336421 -0.368350  0.644547    -0.466875     -0.163104   \n",
       "76293     -0.220989  0.177903  0.688929    -0.423765     -0.136019   \n",
       "76294      0.938584 -0.299639  0.343170    -0.523781     -0.815029   \n",
       "76295      1.578710 -0.134732  0.115763    -0.348753      0.332543   \n",
       "\n",
       "       instrumentalness  liveness   valence     tempo  duration_ms key mode  \\\n",
       "0             -0.597743 -0.311410 -0.867494 -0.390703    -0.219755   4    0   \n",
       "1             -0.597746 -0.381398  1.454091  0.234270    -0.490548   1    1   \n",
       "2             -0.597746 -0.006007  0.618934  0.518870    -0.473382   6    1   \n",
       "3             -0.597711  2.284515  0.825807  0.019373    -0.155197   0    1   \n",
       "4             -0.597709 -0.502286 -1.135663  0.827600     0.012319  10    1   \n",
       "...                 ...       ...       ...       ...          ...  ..  ...   \n",
       "76291         -0.595498  0.159420  1.323837 -0.327260    -0.454591   0    1   \n",
       "76292         -0.597746 -0.626993 -0.534197  1.269100     0.351886   5    0   \n",
       "76293         -0.597746 -0.400486  0.281806  1.642432    -0.086888   0    0   \n",
       "76294         -0.597746 -0.483199 -0.085970  0.324098    -0.249834   5    1   \n",
       "76295         -0.594904 -0.464111 -1.223776 -0.388731    -0.278535   1    0   \n",
       "\n",
       "      time_signature  \n",
       "0                  4  \n",
       "1                  4  \n",
       "2                  4  \n",
       "3                  4  \n",
       "4                  4  \n",
       "...              ...  \n",
       "76291              4  \n",
       "76292              4  \n",
       "76293              4  \n",
       "76294              4  \n",
       "76295              4  \n",
       "\n",
       "[76296 rows x 13 columns]"
      ]
     },
     "execution_count": 85,
     "metadata": {},
     "output_type": "execute_result"
    }
   ],
   "source": [
    "X_prep = pd.concat([X_cont_st, X_disc], axis=1)\n",
    "X_prep"
   ]
  },
  {
   "cell_type": "markdown",
   "id": "ambient-burke",
   "metadata": {},
   "source": [
    "Subset of X just for practical purposes (faster processing)"
   ]
  },
  {
   "cell_type": "code",
   "execution_count": 86,
   "id": "contemporary-representation",
   "metadata": {},
   "outputs": [],
   "source": [
    "# With 1000 samples we get 7 clusters\n",
    "X_prep = X_prep.sample(50000)"
   ]
  },
  {
   "cell_type": "markdown",
   "id": "executed-london",
   "metadata": {},
   "source": [
    "Cluster"
   ]
  },
  {
   "cell_type": "code",
   "execution_count": 87,
   "id": "worst-intranet",
   "metadata": {},
   "outputs": [],
   "source": [
    "from sklearn.cluster import KMeans"
   ]
  },
  {
   "cell_type": "code",
   "execution_count": 88,
   "id": "inner-emerald",
   "metadata": {},
   "outputs": [
    {
     "data": {
      "text/plain": [
       "Text(0.5, 1.0, 'Elbow Method showing the optimal k within [2, 3, 4, 5, 6, 7, 8, 9, 10, 11, 12, 13, 14, 15, 16, 17, 18, 19]')"
      ]
     },
     "execution_count": 88,
     "metadata": {},
     "output_type": "execute_result"
    },
    {
     "data": {
      "image/png": "[encoded data removed]",
      "text/plain": [
       "<Figure size 1152x576 with 1 Axes>"
      ]
     },
     "metadata": {},
     "output_type": "display_data"
    }
   ],
   "source": [
    "K = range(2,20)\n",
    "inertias = []\n",
    "\n",
    "for k in K:\n",
    "    kmeans = KMeans(n_clusters=k,\n",
    "                    random_state=1234,\n",
    "                   )\n",
    "    kmeans.fit(X_prep)\n",
    "    inertias.append(kmeans.inertia_)\n",
    "    \n",
    "import matplotlib.pyplot as plt\n",
    "\n",
    "plt.figure(figsize=(16,8))\n",
    "plt.plot(K, inertias, 'bx-')\n",
    "plt.xlabel('k')\n",
    "plt.ylabel('inertia')\n",
    "plt.xticks(np.arange(min(K), max(K)+1, 1.0))\n",
    "plt.title(f'Elbow Method showing the optimal k within {list(K)}')"
   ]
  },
  {
   "cell_type": "code",
   "execution_count": 89,
   "id": "danish-means",
   "metadata": {},
   "outputs": [
    {
     "data": {
      "application/vnd.jupyter.widget-view+json": {
       "model_id": "aedc4f12a4674ab798861617f6003e25",
       "version_major": 2,
       "version_minor": 0
      },
      "text/plain": [
       "  0%|          | 0/18 [00:00<?, ?it/s]"
      ]
     },
     "metadata": {},
     "output_type": "display_data"
    },
    {
     "ename": "KeyboardInterrupt",
     "evalue": "",
     "output_type": "error",
     "traceback": [
      "\u001b[1;31m---------------------------------------------------------------------------\u001b[0m",
      "\u001b[1;31mKeyboardInterrupt\u001b[0m                         Traceback (most recent call last)",
      "\u001b[1;32m<ipython-input-89-95e61587a43d>\u001b[0m in \u001b[0;36m<module>\u001b[1;34m\u001b[0m\n\u001b[0;32m      8\u001b[0m     \u001b[0mkmeans\u001b[0m \u001b[1;33m=\u001b[0m \u001b[0mKMeans\u001b[0m\u001b[1;33m(\u001b[0m\u001b[0mn_clusters\u001b[0m\u001b[1;33m=\u001b[0m\u001b[0mk\u001b[0m\u001b[1;33m,\u001b[0m \u001b[0mrandom_state\u001b[0m\u001b[1;33m=\u001b[0m\u001b[1;36m1234\u001b[0m\u001b[1;33m)\u001b[0m\u001b[1;33m\u001b[0m\u001b[1;33m\u001b[0m\u001b[0m\n\u001b[0;32m      9\u001b[0m     \u001b[0mkmeans\u001b[0m\u001b[1;33m.\u001b[0m\u001b[0mfit\u001b[0m\u001b[1;33m(\u001b[0m\u001b[0mX_prep\u001b[0m\u001b[1;33m)\u001b[0m\u001b[1;33m\u001b[0m\u001b[1;33m\u001b[0m\u001b[0m\n\u001b[1;32m---> 10\u001b[1;33m     silhouettes.append(silhouette_score(X_prep, kmeans.predict(X_prep) )\n\u001b[0m\u001b[0;32m     11\u001b[0m                    )\n\u001b[0;32m     12\u001b[0m \u001b[1;33m\u001b[0m\u001b[0m\n",
      "\u001b[1;32mC:\\ProgramData\\Anaconda3\\lib\\site-packages\\sklearn\\utils\\validation.py\u001b[0m in \u001b[0;36minner_f\u001b[1;34m(*args, **kwargs)\u001b[0m\n\u001b[0;32m     70\u001b[0m                           FutureWarning)\n\u001b[0;32m     71\u001b[0m         \u001b[0mkwargs\u001b[0m\u001b[1;33m.\u001b[0m\u001b[0mupdate\u001b[0m\u001b[1;33m(\u001b[0m\u001b[1;33m{\u001b[0m\u001b[0mk\u001b[0m\u001b[1;33m:\u001b[0m \u001b[0marg\u001b[0m \u001b[1;32mfor\u001b[0m \u001b[0mk\u001b[0m\u001b[1;33m,\u001b[0m \u001b[0marg\u001b[0m \u001b[1;32min\u001b[0m \u001b[0mzip\u001b[0m\u001b[1;33m(\u001b[0m\u001b[0msig\u001b[0m\u001b[1;33m.\u001b[0m\u001b[0mparameters\u001b[0m\u001b[1;33m,\u001b[0m \u001b[0margs\u001b[0m\u001b[1;33m)\u001b[0m\u001b[1;33m}\u001b[0m\u001b[1;33m)\u001b[0m\u001b[1;33m\u001b[0m\u001b[1;33m\u001b[0m\u001b[0m\n\u001b[1;32m---> 72\u001b[1;33m         \u001b[1;32mreturn\u001b[0m \u001b[0mf\u001b[0m\u001b[1;33m(\u001b[0m\u001b[1;33m**\u001b[0m\u001b[0mkwargs\u001b[0m\u001b[1;33m)\u001b[0m\u001b[1;33m\u001b[0m\u001b[1;33m\u001b[0m\u001b[0m\n\u001b[0m\u001b[0;32m     73\u001b[0m     \u001b[1;32mreturn\u001b[0m \u001b[0minner_f\u001b[0m\u001b[1;33m\u001b[0m\u001b[1;33m\u001b[0m\u001b[0m\n\u001b[0;32m     74\u001b[0m \u001b[1;33m\u001b[0m\u001b[0m\n",
      "\u001b[1;32mC:\\ProgramData\\Anaconda3\\lib\\site-packages\\sklearn\\metrics\\cluster\\_unsupervised.py\u001b[0m in \u001b[0;36msilhouette_score\u001b[1;34m(X, labels, metric, sample_size, random_state, **kwds)\u001b[0m\n\u001b[0;32m    115\u001b[0m         \u001b[1;32melse\u001b[0m\u001b[1;33m:\u001b[0m\u001b[1;33m\u001b[0m\u001b[1;33m\u001b[0m\u001b[0m\n\u001b[0;32m    116\u001b[0m             \u001b[0mX\u001b[0m\u001b[1;33m,\u001b[0m \u001b[0mlabels\u001b[0m \u001b[1;33m=\u001b[0m \u001b[0mX\u001b[0m\u001b[1;33m[\u001b[0m\u001b[0mindices\u001b[0m\u001b[1;33m]\u001b[0m\u001b[1;33m,\u001b[0m \u001b[0mlabels\u001b[0m\u001b[1;33m[\u001b[0m\u001b[0mindices\u001b[0m\u001b[1;33m]\u001b[0m\u001b[1;33m\u001b[0m\u001b[1;33m\u001b[0m\u001b[0m\n\u001b[1;32m--> 117\u001b[1;33m     \u001b[1;32mreturn\u001b[0m \u001b[0mnp\u001b[0m\u001b[1;33m.\u001b[0m\u001b[0mmean\u001b[0m\u001b[1;33m(\u001b[0m\u001b[0msilhouette_samples\u001b[0m\u001b[1;33m(\u001b[0m\u001b[0mX\u001b[0m\u001b[1;33m,\u001b[0m \u001b[0mlabels\u001b[0m\u001b[1;33m,\u001b[0m \u001b[0mmetric\u001b[0m\u001b[1;33m=\u001b[0m\u001b[0mmetric\u001b[0m\u001b[1;33m,\u001b[0m \u001b[1;33m**\u001b[0m\u001b[0mkwds\u001b[0m\u001b[1;33m)\u001b[0m\u001b[1;33m)\u001b[0m\u001b[1;33m\u001b[0m\u001b[1;33m\u001b[0m\u001b[0m\n\u001b[0m\u001b[0;32m    118\u001b[0m \u001b[1;33m\u001b[0m\u001b[0m\n\u001b[0;32m    119\u001b[0m \u001b[1;33m\u001b[0m\u001b[0m\n",
      "\u001b[1;32mC:\\ProgramData\\Anaconda3\\lib\\site-packages\\sklearn\\utils\\validation.py\u001b[0m in \u001b[0;36minner_f\u001b[1;34m(*args, **kwargs)\u001b[0m\n\u001b[0;32m     70\u001b[0m                           FutureWarning)\n\u001b[0;32m     71\u001b[0m         \u001b[0mkwargs\u001b[0m\u001b[1;33m.\u001b[0m\u001b[0mupdate\u001b[0m\u001b[1;33m(\u001b[0m\u001b[1;33m{\u001b[0m\u001b[0mk\u001b[0m\u001b[1;33m:\u001b[0m \u001b[0marg\u001b[0m \u001b[1;32mfor\u001b[0m \u001b[0mk\u001b[0m\u001b[1;33m,\u001b[0m \u001b[0marg\u001b[0m \u001b[1;32min\u001b[0m \u001b[0mzip\u001b[0m\u001b[1;33m(\u001b[0m\u001b[0msig\u001b[0m\u001b[1;33m.\u001b[0m\u001b[0mparameters\u001b[0m\u001b[1;33m,\u001b[0m \u001b[0margs\u001b[0m\u001b[1;33m)\u001b[0m\u001b[1;33m}\u001b[0m\u001b[1;33m)\u001b[0m\u001b[1;33m\u001b[0m\u001b[1;33m\u001b[0m\u001b[0m\n\u001b[1;32m---> 72\u001b[1;33m         \u001b[1;32mreturn\u001b[0m \u001b[0mf\u001b[0m\u001b[1;33m(\u001b[0m\u001b[1;33m**\u001b[0m\u001b[0mkwargs\u001b[0m\u001b[1;33m)\u001b[0m\u001b[1;33m\u001b[0m\u001b[1;33m\u001b[0m\u001b[0m\n\u001b[0m\u001b[0;32m     73\u001b[0m     \u001b[1;32mreturn\u001b[0m \u001b[0minner_f\u001b[0m\u001b[1;33m\u001b[0m\u001b[1;33m\u001b[0m\u001b[0m\n\u001b[0;32m     74\u001b[0m \u001b[1;33m\u001b[0m\u001b[0m\n",
      "\u001b[1;32mC:\\ProgramData\\Anaconda3\\lib\\site-packages\\sklearn\\metrics\\cluster\\_unsupervised.py\u001b[0m in \u001b[0;36msilhouette_samples\u001b[1;34m(X, labels, metric, **kwds)\u001b[0m\n\u001b[0;32m    233\u001b[0m                                     labels=labels, label_freqs=label_freqs)\n\u001b[0;32m    234\u001b[0m     results = zip(*pairwise_distances_chunked(X, reduce_func=reduce_func,\n\u001b[1;32m--> 235\u001b[1;33m                                               **kwds))\n\u001b[0m\u001b[0;32m    236\u001b[0m     \u001b[0mintra_clust_dists\u001b[0m\u001b[1;33m,\u001b[0m \u001b[0minter_clust_dists\u001b[0m \u001b[1;33m=\u001b[0m \u001b[0mresults\u001b[0m\u001b[1;33m\u001b[0m\u001b[1;33m\u001b[0m\u001b[0m\n\u001b[0;32m    237\u001b[0m     \u001b[0mintra_clust_dists\u001b[0m \u001b[1;33m=\u001b[0m \u001b[0mnp\u001b[0m\u001b[1;33m.\u001b[0m\u001b[0mconcatenate\u001b[0m\u001b[1;33m(\u001b[0m\u001b[0mintra_clust_dists\u001b[0m\u001b[1;33m)\u001b[0m\u001b[1;33m\u001b[0m\u001b[1;33m\u001b[0m\u001b[0m\n",
      "\u001b[1;32mC:\\ProgramData\\Anaconda3\\lib\\site-packages\\sklearn\\metrics\\pairwise.py\u001b[0m in \u001b[0;36mpairwise_distances_chunked\u001b[1;34m(X, Y, reduce_func, metric, n_jobs, working_memory, **kwds)\u001b[0m\n\u001b[0;32m   1615\u001b[0m             \u001b[0mX_chunk\u001b[0m \u001b[1;33m=\u001b[0m \u001b[0mX\u001b[0m\u001b[1;33m[\u001b[0m\u001b[0msl\u001b[0m\u001b[1;33m]\u001b[0m\u001b[1;33m\u001b[0m\u001b[1;33m\u001b[0m\u001b[0m\n\u001b[0;32m   1616\u001b[0m         D_chunk = pairwise_distances(X_chunk, Y, metric=metric,\n\u001b[1;32m-> 1617\u001b[1;33m                                      n_jobs=n_jobs, **kwds)\n\u001b[0m\u001b[0;32m   1618\u001b[0m         if ((X is Y or Y is None)\n\u001b[0;32m   1619\u001b[0m                 \u001b[1;32mand\u001b[0m \u001b[0mPAIRWISE_DISTANCE_FUNCTIONS\u001b[0m\u001b[1;33m.\u001b[0m\u001b[0mget\u001b[0m\u001b[1;33m(\u001b[0m\u001b[0mmetric\u001b[0m\u001b[1;33m,\u001b[0m \u001b[1;32mNone\u001b[0m\u001b[1;33m)\u001b[0m\u001b[1;33m\u001b[0m\u001b[1;33m\u001b[0m\u001b[0m\n",
      "\u001b[1;32mC:\\ProgramData\\Anaconda3\\lib\\site-packages\\sklearn\\utils\\validation.py\u001b[0m in \u001b[0;36minner_f\u001b[1;34m(*args, **kwargs)\u001b[0m\n\u001b[0;32m     70\u001b[0m                           FutureWarning)\n\u001b[0;32m     71\u001b[0m         \u001b[0mkwargs\u001b[0m\u001b[1;33m.\u001b[0m\u001b[0mupdate\u001b[0m\u001b[1;33m(\u001b[0m\u001b[1;33m{\u001b[0m\u001b[0mk\u001b[0m\u001b[1;33m:\u001b[0m \u001b[0marg\u001b[0m \u001b[1;32mfor\u001b[0m \u001b[0mk\u001b[0m\u001b[1;33m,\u001b[0m \u001b[0marg\u001b[0m \u001b[1;32min\u001b[0m \u001b[0mzip\u001b[0m\u001b[1;33m(\u001b[0m\u001b[0msig\u001b[0m\u001b[1;33m.\u001b[0m\u001b[0mparameters\u001b[0m\u001b[1;33m,\u001b[0m \u001b[0margs\u001b[0m\u001b[1;33m)\u001b[0m\u001b[1;33m}\u001b[0m\u001b[1;33m)\u001b[0m\u001b[1;33m\u001b[0m\u001b[1;33m\u001b[0m\u001b[0m\n\u001b[1;32m---> 72\u001b[1;33m         \u001b[1;32mreturn\u001b[0m \u001b[0mf\u001b[0m\u001b[1;33m(\u001b[0m\u001b[1;33m**\u001b[0m\u001b[0mkwargs\u001b[0m\u001b[1;33m)\u001b[0m\u001b[1;33m\u001b[0m\u001b[1;33m\u001b[0m\u001b[0m\n\u001b[0m\u001b[0;32m     73\u001b[0m     \u001b[1;32mreturn\u001b[0m \u001b[0minner_f\u001b[0m\u001b[1;33m\u001b[0m\u001b[1;33m\u001b[0m\u001b[0m\n\u001b[0;32m     74\u001b[0m \u001b[1;33m\u001b[0m\u001b[0m\n",
      "\u001b[1;32mC:\\ProgramData\\Anaconda3\\lib\\site-packages\\sklearn\\metrics\\pairwise.py\u001b[0m in \u001b[0;36mpairwise_distances\u001b[1;34m(X, Y, metric, n_jobs, force_all_finite, **kwds)\u001b[0m\n\u001b[0;32m   1777\u001b[0m         \u001b[0mfunc\u001b[0m \u001b[1;33m=\u001b[0m \u001b[0mpartial\u001b[0m\u001b[1;33m(\u001b[0m\u001b[0mdistance\u001b[0m\u001b[1;33m.\u001b[0m\u001b[0mcdist\u001b[0m\u001b[1;33m,\u001b[0m \u001b[0mmetric\u001b[0m\u001b[1;33m=\u001b[0m\u001b[0mmetric\u001b[0m\u001b[1;33m,\u001b[0m \u001b[1;33m**\u001b[0m\u001b[0mkwds\u001b[0m\u001b[1;33m)\u001b[0m\u001b[1;33m\u001b[0m\u001b[1;33m\u001b[0m\u001b[0m\n\u001b[0;32m   1778\u001b[0m \u001b[1;33m\u001b[0m\u001b[0m\n\u001b[1;32m-> 1779\u001b[1;33m     \u001b[1;32mreturn\u001b[0m \u001b[0m_parallel_pairwise\u001b[0m\u001b[1;33m(\u001b[0m\u001b[0mX\u001b[0m\u001b[1;33m,\u001b[0m \u001b[0mY\u001b[0m\u001b[1;33m,\u001b[0m \u001b[0mfunc\u001b[0m\u001b[1;33m,\u001b[0m \u001b[0mn_jobs\u001b[0m\u001b[1;33m,\u001b[0m \u001b[1;33m**\u001b[0m\u001b[0mkwds\u001b[0m\u001b[1;33m)\u001b[0m\u001b[1;33m\u001b[0m\u001b[1;33m\u001b[0m\u001b[0m\n\u001b[0m\u001b[0;32m   1780\u001b[0m \u001b[1;33m\u001b[0m\u001b[0m\n\u001b[0;32m   1781\u001b[0m \u001b[1;33m\u001b[0m\u001b[0m\n",
      "\u001b[1;32mC:\\ProgramData\\Anaconda3\\lib\\site-packages\\sklearn\\metrics\\pairwise.py\u001b[0m in \u001b[0;36m_parallel_pairwise\u001b[1;34m(X, Y, func, n_jobs, **kwds)\u001b[0m\n\u001b[0;32m   1358\u001b[0m \u001b[1;33m\u001b[0m\u001b[0m\n\u001b[0;32m   1359\u001b[0m     \u001b[1;32mif\u001b[0m \u001b[0meffective_n_jobs\u001b[0m\u001b[1;33m(\u001b[0m\u001b[0mn_jobs\u001b[0m\u001b[1;33m)\u001b[0m \u001b[1;33m==\u001b[0m \u001b[1;36m1\u001b[0m\u001b[1;33m:\u001b[0m\u001b[1;33m\u001b[0m\u001b[1;33m\u001b[0m\u001b[0m\n\u001b[1;32m-> 1360\u001b[1;33m         \u001b[1;32mreturn\u001b[0m \u001b[0mfunc\u001b[0m\u001b[1;33m(\u001b[0m\u001b[0mX\u001b[0m\u001b[1;33m,\u001b[0m \u001b[0mY\u001b[0m\u001b[1;33m,\u001b[0m \u001b[1;33m**\u001b[0m\u001b[0mkwds\u001b[0m\u001b[1;33m)\u001b[0m\u001b[1;33m\u001b[0m\u001b[1;33m\u001b[0m\u001b[0m\n\u001b[0m\u001b[0;32m   1361\u001b[0m \u001b[1;33m\u001b[0m\u001b[0m\n\u001b[0;32m   1362\u001b[0m     \u001b[1;31m# enforce a threading backend to prevent data communication overhead\u001b[0m\u001b[1;33m\u001b[0m\u001b[1;33m\u001b[0m\u001b[1;33m\u001b[0m\u001b[0m\n",
      "\u001b[1;32mC:\\ProgramData\\Anaconda3\\lib\\site-packages\\sklearn\\utils\\validation.py\u001b[0m in \u001b[0;36minner_f\u001b[1;34m(*args, **kwargs)\u001b[0m\n\u001b[0;32m     70\u001b[0m                           FutureWarning)\n\u001b[0;32m     71\u001b[0m         \u001b[0mkwargs\u001b[0m\u001b[1;33m.\u001b[0m\u001b[0mupdate\u001b[0m\u001b[1;33m(\u001b[0m\u001b[1;33m{\u001b[0m\u001b[0mk\u001b[0m\u001b[1;33m:\u001b[0m \u001b[0marg\u001b[0m \u001b[1;32mfor\u001b[0m \u001b[0mk\u001b[0m\u001b[1;33m,\u001b[0m \u001b[0marg\u001b[0m \u001b[1;32min\u001b[0m \u001b[0mzip\u001b[0m\u001b[1;33m(\u001b[0m\u001b[0msig\u001b[0m\u001b[1;33m.\u001b[0m\u001b[0mparameters\u001b[0m\u001b[1;33m,\u001b[0m \u001b[0margs\u001b[0m\u001b[1;33m)\u001b[0m\u001b[1;33m}\u001b[0m\u001b[1;33m)\u001b[0m\u001b[1;33m\u001b[0m\u001b[1;33m\u001b[0m\u001b[0m\n\u001b[1;32m---> 72\u001b[1;33m         \u001b[1;32mreturn\u001b[0m \u001b[0mf\u001b[0m\u001b[1;33m(\u001b[0m\u001b[1;33m**\u001b[0m\u001b[0mkwargs\u001b[0m\u001b[1;33m)\u001b[0m\u001b[1;33m\u001b[0m\u001b[1;33m\u001b[0m\u001b[0m\n\u001b[0m\u001b[0;32m     73\u001b[0m     \u001b[1;32mreturn\u001b[0m \u001b[0minner_f\u001b[0m\u001b[1;33m\u001b[0m\u001b[1;33m\u001b[0m\u001b[0m\n\u001b[0;32m     74\u001b[0m \u001b[1;33m\u001b[0m\u001b[0m\n",
      "\u001b[1;32mC:\\ProgramData\\Anaconda3\\lib\\site-packages\\sklearn\\metrics\\pairwise.py\u001b[0m in \u001b[0;36meuclidean_distances\u001b[1;34m(X, Y, Y_norm_squared, squared, X_norm_squared)\u001b[0m\n\u001b[0;32m    308\u001b[0m     \u001b[1;32melse\u001b[0m\u001b[1;33m:\u001b[0m\u001b[1;33m\u001b[0m\u001b[1;33m\u001b[0m\u001b[0m\n\u001b[0;32m    309\u001b[0m         \u001b[1;31m# if dtype is already float64, no need to chunk and upcast\u001b[0m\u001b[1;33m\u001b[0m\u001b[1;33m\u001b[0m\u001b[1;33m\u001b[0m\u001b[0m\n\u001b[1;32m--> 310\u001b[1;33m         \u001b[0mdistances\u001b[0m \u001b[1;33m=\u001b[0m \u001b[1;33m-\u001b[0m \u001b[1;36m2\u001b[0m \u001b[1;33m*\u001b[0m \u001b[0msafe_sparse_dot\u001b[0m\u001b[1;33m(\u001b[0m\u001b[0mX\u001b[0m\u001b[1;33m,\u001b[0m \u001b[0mY\u001b[0m\u001b[1;33m.\u001b[0m\u001b[0mT\u001b[0m\u001b[1;33m,\u001b[0m \u001b[0mdense_output\u001b[0m\u001b[1;33m=\u001b[0m\u001b[1;32mTrue\u001b[0m\u001b[1;33m)\u001b[0m\u001b[1;33m\u001b[0m\u001b[1;33m\u001b[0m\u001b[0m\n\u001b[0m\u001b[0;32m    311\u001b[0m         \u001b[0mdistances\u001b[0m \u001b[1;33m+=\u001b[0m \u001b[0mXX\u001b[0m\u001b[1;33m\u001b[0m\u001b[1;33m\u001b[0m\u001b[0m\n\u001b[0;32m    312\u001b[0m         \u001b[0mdistances\u001b[0m \u001b[1;33m+=\u001b[0m \u001b[0mYY\u001b[0m\u001b[1;33m\u001b[0m\u001b[1;33m\u001b[0m\u001b[0m\n",
      "\u001b[1;31mKeyboardInterrupt\u001b[0m: "
     ]
    }
   ],
   "source": [
    "from sklearn.metrics import silhouette_score\n",
    "\n",
    "import numpy as np\n",
    "K = range(2,20)\n",
    "silhouettes = []\n",
    "\n",
    "for k in tqdm(K):\n",
    "    kmeans = KMeans(n_clusters=k, random_state=1234)\n",
    "    kmeans.fit(X_prep)\n",
    "    silhouettes.append(silhouette_score(X_prep, kmeans.predict(X_prep) )\n",
    "                   )\n",
    "    \n",
    "import matplotlib.pyplot as plt\n",
    "\n",
    "plt.figure(figsize=(16,8))\n",
    "plt.plot(K, silhouettes, 'bx-')\n",
    "plt.xlabel('k')\n",
    "plt.ylabel('silhouette score')\n",
    "plt.xticks(np.arange(min(K), max(K)+1, 1.0))\n",
    "plt.title(f'Silhouette Method showing the optimal k within {list(K)}')"
   ]
  },
  {
   "cell_type": "code",
   "execution_count": null,
   "id": "coordinated-situation",
   "metadata": {},
   "outputs": [],
   "source": [
    "from yellowbrick.cluster import SilhouetteVisualizer\n",
    "\n",
    "fig, ax = plt.subplots(3, 2, figsize=(15,12))\n",
    "for k in [2, 3, 4, 5, 6, 7]:\n",
    "    '''\n",
    "    Create KMeans instance for different number of clusters\n",
    "    '''\n",
    "    km = KMeans(n_clusters=k,\n",
    "                random_state=1234)\n",
    "    q, mod = divmod(k, 2)\n",
    "    '''\n",
    "    Create SilhouetteVisualizer instance with KMeans instance\n",
    "    Fit the visualizer\n",
    "    '''\n",
    "    \n",
    "    visualizer = SilhouetteVisualizer(km, colors='yellowbrick', ax=ax[q-1][mod])\n",
    "    visualizer.fit(X_prep)"
   ]
  },
  {
   "cell_type": "markdown",
   "id": "based-least",
   "metadata": {},
   "source": [
    "We decide for 7 clusters"
   ]
  },
  {
   "cell_type": "code",
   "execution_count": 90,
   "id": "institutional-situation",
   "metadata": {},
   "outputs": [],
   "source": [
    "cols = X_prep.columns"
   ]
  },
  {
   "cell_type": "code",
   "execution_count": 91,
   "id": "russian-birth",
   "metadata": {},
   "outputs": [],
   "source": [
    "kmeans = KMeans(n_clusters=7,\n",
    "               random_state=1234)\n",
    "kmeans.fit(X_prep)\n",
    "\n",
    "clusters = kmeans.predict(X_prep)"
   ]
  },
  {
   "cell_type": "code",
   "execution_count": 92,
   "id": "based-pasta",
   "metadata": {},
   "outputs": [
    {
     "data": {
      "text/plain": [
       "(50000,)"
      ]
     },
     "execution_count": 92,
     "metadata": {},
     "output_type": "execute_result"
    }
   ],
   "source": [
    "clusters.shape"
   ]
  },
  {
   "cell_type": "code",
   "execution_count": 93,
   "id": "allied-trash",
   "metadata": {},
   "outputs": [],
   "source": [
    "songs_clustered = X_prep.copy()\n",
    "songs_clustered['cluster_id'] = clusters"
   ]
  },
  {
   "cell_type": "code",
   "execution_count": 94,
   "id": "vanilla-argument",
   "metadata": {},
   "outputs": [
    {
     "data": {
      "text/html": [
       "<div>\n",
       "<style scoped>\n",
       "    .dataframe tbody tr th:only-of-type {\n",
       "        vertical-align: middle;\n",
       "    }\n",
       "\n",
       "    .dataframe tbody tr th {\n",
       "        vertical-align: top;\n",
       "    }\n",
       "\n",
       "    .dataframe thead th {\n",
       "        text-align: right;\n",
       "    }\n",
       "</style>\n",
       "<table border=\"1\" class=\"dataframe\">\n",
       "  <thead>\n",
       "    <tr style=\"text-align: right;\">\n",
       "      <th></th>\n",
       "      <th>danceability</th>\n",
       "      <th>energy</th>\n",
       "      <th>loudness</th>\n",
       "      <th>speechiness</th>\n",
       "      <th>acousticness</th>\n",
       "      <th>instrumentalness</th>\n",
       "      <th>liveness</th>\n",
       "      <th>valence</th>\n",
       "      <th>tempo</th>\n",
       "      <th>duration_ms</th>\n",
       "      <th>key</th>\n",
       "      <th>mode</th>\n",
       "      <th>time_signature</th>\n",
       "      <th>cluster_id</th>\n",
       "    </tr>\n",
       "  </thead>\n",
       "  <tbody>\n",
       "    <tr>\n",
       "      <th>22579</th>\n",
       "      <td>0.487347</td>\n",
       "      <td>-0.485159</td>\n",
       "      <td>0.059827</td>\n",
       "      <td>-0.497915</td>\n",
       "      <td>1.036741</td>\n",
       "      <td>-0.597311</td>\n",
       "      <td>-0.483199</td>\n",
       "      <td>0.396736</td>\n",
       "      <td>-0.612673</td>\n",
       "      <td>-0.293429</td>\n",
       "      <td>0</td>\n",
       "      <td>1</td>\n",
       "      <td>4</td>\n",
       "      <td>1</td>\n",
       "    </tr>\n",
       "    <tr>\n",
       "      <th>70702</th>\n",
       "      <td>0.991053</td>\n",
       "      <td>0.188210</td>\n",
       "      <td>0.417422</td>\n",
       "      <td>-0.278052</td>\n",
       "      <td>0.018363</td>\n",
       "      <td>-0.597743</td>\n",
       "      <td>-0.580546</td>\n",
       "      <td>0.101749</td>\n",
       "      <td>0.703094</td>\n",
       "      <td>-0.558223</td>\n",
       "      <td>9</td>\n",
       "      <td>1</td>\n",
       "      <td>4</td>\n",
       "      <td>0</td>\n",
       "    </tr>\n",
       "    <tr>\n",
       "      <th>50439</th>\n",
       "      <td>0.775929</td>\n",
       "      <td>-1.658057</td>\n",
       "      <td>-2.174082</td>\n",
       "      <td>5.247842</td>\n",
       "      <td>0.121284</td>\n",
       "      <td>-0.597746</td>\n",
       "      <td>-0.606632</td>\n",
       "      <td>-0.875156</td>\n",
       "      <td>0.571984</td>\n",
       "      <td>1.825350</td>\n",
       "      <td>5</td>\n",
       "      <td>0</td>\n",
       "      <td>3</td>\n",
       "      <td>4</td>\n",
       "    </tr>\n",
       "    <tr>\n",
       "      <th>47596</th>\n",
       "      <td>0.062346</td>\n",
       "      <td>-0.753132</td>\n",
       "      <td>-0.262684</td>\n",
       "      <td>-0.515159</td>\n",
       "      <td>1.258834</td>\n",
       "      <td>-0.597391</td>\n",
       "      <td>-0.260509</td>\n",
       "      <td>-0.177914</td>\n",
       "      <td>-0.929009</td>\n",
       "      <td>-0.235359</td>\n",
       "      <td>5</td>\n",
       "      <td>1</td>\n",
       "      <td>3</td>\n",
       "      <td>3</td>\n",
       "    </tr>\n",
       "    <tr>\n",
       "      <th>319</th>\n",
       "      <td>-0.703707</td>\n",
       "      <td>-1.823548</td>\n",
       "      <td>-3.047920</td>\n",
       "      <td>-0.311678</td>\n",
       "      <td>1.640726</td>\n",
       "      <td>2.095304</td>\n",
       "      <td>-0.451386</td>\n",
       "      <td>-1.170142</td>\n",
       "      <td>0.024412</td>\n",
       "      <td>-0.501531</td>\n",
       "      <td>8</td>\n",
       "      <td>1</td>\n",
       "      <td>3</td>\n",
       "      <td>6</td>\n",
       "    </tr>\n",
       "    <tr>\n",
       "      <th>...</th>\n",
       "      <td>...</td>\n",
       "      <td>...</td>\n",
       "      <td>...</td>\n",
       "      <td>...</td>\n",
       "      <td>...</td>\n",
       "      <td>...</td>\n",
       "      <td>...</td>\n",
       "      <td>...</td>\n",
       "      <td>...</td>\n",
       "      <td>...</td>\n",
       "      <td>...</td>\n",
       "      <td>...</td>\n",
       "      <td>...</td>\n",
       "      <td>...</td>\n",
       "    </tr>\n",
       "    <tr>\n",
       "      <th>7025</th>\n",
       "      <td>1.132720</td>\n",
       "      <td>-0.533256</td>\n",
       "      <td>-0.042181</td>\n",
       "      <td>0.436719</td>\n",
       "      <td>-0.922554</td>\n",
       "      <td>-0.597739</td>\n",
       "      <td>1.756423</td>\n",
       "      <td>-0.599324</td>\n",
       "      <td>0.082065</td>\n",
       "      <td>-0.144894</td>\n",
       "      <td>0</td>\n",
       "      <td>1</td>\n",
       "      <td>4</td>\n",
       "      <td>1</td>\n",
       "    </tr>\n",
       "    <tr>\n",
       "      <th>51890</th>\n",
       "      <td>-1.611426</td>\n",
       "      <td>-1.692412</td>\n",
       "      <td>-1.929486</td>\n",
       "      <td>-0.436698</td>\n",
       "      <td>1.613642</td>\n",
       "      <td>1.754012</td>\n",
       "      <td>-0.419573</td>\n",
       "      <td>-0.384788</td>\n",
       "      <td>-0.777555</td>\n",
       "      <td>-0.692194</td>\n",
       "      <td>4</td>\n",
       "      <td>0</td>\n",
       "      <td>3</td>\n",
       "      <td>5</td>\n",
       "    </tr>\n",
       "    <tr>\n",
       "      <th>57059</th>\n",
       "      <td>-2.235811</td>\n",
       "      <td>-1.705468</td>\n",
       "      <td>-1.914973</td>\n",
       "      <td>-0.386690</td>\n",
       "      <td>1.093619</td>\n",
       "      <td>1.992056</td>\n",
       "      <td>-0.438661</td>\n",
       "      <td>-1.324148</td>\n",
       "      <td>-1.478146</td>\n",
       "      <td>0.159039</td>\n",
       "      <td>9</td>\n",
       "      <td>1</td>\n",
       "      <td>3</td>\n",
       "      <td>6</td>\n",
       "    </tr>\n",
       "    <tr>\n",
       "      <th>36698</th>\n",
       "      <td>0.760188</td>\n",
       "      <td>0.329068</td>\n",
       "      <td>0.379803</td>\n",
       "      <td>-0.275465</td>\n",
       "      <td>-0.837238</td>\n",
       "      <td>-0.589860</td>\n",
       "      <td>0.897477</td>\n",
       "      <td>2.013417</td>\n",
       "      <td>0.981121</td>\n",
       "      <td>-0.293848</td>\n",
       "      <td>5</td>\n",
       "      <td>1</td>\n",
       "      <td>4</td>\n",
       "      <td>3</td>\n",
       "    </tr>\n",
       "    <tr>\n",
       "      <th>50766</th>\n",
       "      <td>0.345680</td>\n",
       "      <td>-1.742915</td>\n",
       "      <td>-2.009797</td>\n",
       "      <td>4.877093</td>\n",
       "      <td>-0.898720</td>\n",
       "      <td>-0.597741</td>\n",
       "      <td>-0.710978</td>\n",
       "      <td>-0.695099</td>\n",
       "      <td>-0.673455</td>\n",
       "      <td>0.014008</td>\n",
       "      <td>4</td>\n",
       "      <td>1</td>\n",
       "      <td>3</td>\n",
       "      <td>4</td>\n",
       "    </tr>\n",
       "  </tbody>\n",
       "</table>\n",
       "<p>50000 rows × 14 columns</p>\n",
       "</div>"
      ],
      "text/plain": [
       "       danceability    energy  loudness  speechiness  acousticness  \\\n",
       "22579      0.487347 -0.485159  0.059827    -0.497915      1.036741   \n",
       "70702      0.991053  0.188210  0.417422    -0.278052      0.018363   \n",
       "50439      0.775929 -1.658057 -2.174082     5.247842      0.121284   \n",
       "47596      0.062346 -0.753132 -0.262684    -0.515159      1.258834   \n",
       "319       -0.703707 -1.823548 -3.047920    -0.311678      1.640726   \n",
       "...             ...       ...       ...          ...           ...   \n",
       "7025       1.132720 -0.533256 -0.042181     0.436719     -0.922554   \n",
       "51890     -1.611426 -1.692412 -1.929486    -0.436698      1.613642   \n",
       "57059     -2.235811 -1.705468 -1.914973    -0.386690      1.093619   \n",
       "36698      0.760188  0.329068  0.379803    -0.275465     -0.837238   \n",
       "50766      0.345680 -1.742915 -2.009797     4.877093     -0.898720   \n",
       "\n",
       "       instrumentalness  liveness   valence     tempo  duration_ms key mode  \\\n",
       "22579         -0.597311 -0.483199  0.396736 -0.612673    -0.293429   0    1   \n",
       "70702         -0.597743 -0.580546  0.101749  0.703094    -0.558223   9    1   \n",
       "50439         -0.597746 -0.606632 -0.875156  0.571984     1.825350   5    0   \n",
       "47596         -0.597391 -0.260509 -0.177914 -0.929009    -0.235359   5    1   \n",
       "319            2.095304 -0.451386 -1.170142  0.024412    -0.501531   8    1   \n",
       "...                 ...       ...       ...       ...          ...  ..  ...   \n",
       "7025          -0.597739  1.756423 -0.599324  0.082065    -0.144894   0    1   \n",
       "51890          1.754012 -0.419573 -0.384788 -0.777555    -0.692194   4    0   \n",
       "57059          1.992056 -0.438661 -1.324148 -1.478146     0.159039   9    1   \n",
       "36698         -0.589860  0.897477  2.013417  0.981121    -0.293848   5    1   \n",
       "50766         -0.597741 -0.710978 -0.695099 -0.673455     0.014008   4    1   \n",
       "\n",
       "      time_signature  cluster_id  \n",
       "22579              4           1  \n",
       "70702              4           0  \n",
       "50439              3           4  \n",
       "47596              3           3  \n",
       "319                3           6  \n",
       "...              ...         ...  \n",
       "7025               4           1  \n",
       "51890              3           5  \n",
       "57059              3           6  \n",
       "36698              4           3  \n",
       "50766              3           4  \n",
       "\n",
       "[50000 rows x 14 columns]"
      ]
     },
     "execution_count": 94,
     "metadata": {},
     "output_type": "execute_result"
    }
   ],
   "source": [
    "songs_clustered"
   ]
  },
  {
   "cell_type": "code",
   "execution_count": 95,
   "id": "handed-carnival",
   "metadata": {},
   "outputs": [],
   "source": [
    "cluster_centers_df = pd.DataFrame(kmeans.cluster_centers_, columns=cols)\n",
    "cluster_centers_df['cluster_id'] = range(0,7)"
   ]
  },
  {
   "cell_type": "code",
   "execution_count": 96,
   "id": "atomic-breast",
   "metadata": {},
   "outputs": [],
   "source": [
    "# we can only plot 2 dimensions,\n",
    "# so we take 'danceability', 'loudness'\n",
    "# we also need the 'cluster_id' to color the dots with\n",
    "clusters_sub_df = cluster_centers_df[['danceability', 'loudness', 'cluster_id']]\n",
    "songs_sub_df = songs_clustered[['danceability', 'loudness', 'cluster_id']]"
   ]
  },
  {
   "cell_type": "code",
   "execution_count": 97,
   "id": "competent-palestinian",
   "metadata": {},
   "outputs": [
    {
     "data": {
      "text/plain": [
       "<AxesSubplot:xlabel='danceability', ylabel='loudness'>"
      ]
     },
     "execution_count": 97,
     "metadata": {},
     "output_type": "execute_result"
    },
    {
     "data": {
      "image/png": "[encoded data removed]",
      "text/plain": [
       "<Figure size 576x396 with 1 Axes>"
      ]
     },
     "metadata": {},
     "output_type": "display_data"
    }
   ],
   "source": [
    "import seaborn as sns\n",
    "\n",
    "# plot datapoints\n",
    "sns.scatterplot(data=songs_sub_df,\n",
    "               x=\"danceability\",\n",
    "               y=\"loudness\",\n",
    "               hue='cluster_id')\n",
    "\n",
    "# plot centroids\n",
    "sns.scatterplot(data=clusters_sub_df,\n",
    "               x=\"danceability\",\n",
    "               y=\"loudness\",\n",
    "               hue='cluster_id',\n",
    "                legend=False,\n",
    "                marker=u'8',\n",
    "                s=500,\n",
    "               )\n"
   ]
  },
  {
   "cell_type": "markdown",
   "id": "inside-present",
   "metadata": {},
   "source": [
    "Is a song in the Top 100 list?"
   ]
  },
  {
   "cell_type": "code",
   "execution_count": 98,
   "id": "broken-order",
   "metadata": {},
   "outputs": [],
   "source": [
    "def is_hot(song):\n",
    "    s = top100['title'].str.contains(song, na=False, case=False)\n",
    "    if s.sum() > 0:\n",
    "        return True\n",
    "    else:\n",
    "        return False"
   ]
  },
  {
   "cell_type": "code",
   "execution_count": 99,
   "id": "devoted-kazakhstan",
   "metadata": {},
   "outputs": [
    {
     "data": {
      "text/plain": [
       "True"
      ]
     },
     "execution_count": 99,
     "metadata": {},
     "output_type": "execute_result"
    }
   ],
   "source": [
    "is_hot('Drivers')"
   ]
  },
  {
   "cell_type": "markdown",
   "id": "adverse-violin",
   "metadata": {},
   "source": [
    "Ask for user input and recommend song"
   ]
  },
  {
   "cell_type": "code",
   "execution_count": 100,
   "id": "special-reunion",
   "metadata": {},
   "outputs": [],
   "source": [
    "def recommend():\n",
    "    print(\"\"\"\n",
    "    Enter your song's name. Example:\n",
    "    >>> where is love?\n",
    "    \"\"\")\n",
    "    user_input = input()\n",
    "    \n",
    "    if is_hot(user_input):\n",
    "        \n",
    "        s = top100[top100['title'].str.contains('love', na=False, case=False)].sample()\n",
    "        \n",
    "        print('Match found!')\n",
    "        print('* ' + '\"' + s.iloc[0]['title'] + '\"' + ' by ' + s.iloc[0]['artist'])\n",
    "        s = top100.sample()\n",
    "        print(\"\"\"Your song is hot!\\nHere's another one for you to check out:\"\"\")\n",
    "        print('* ' + '\"'+s.iloc[0]['title']+'\"' + ' by ' + s.iloc[0]['artist'])\n",
    "    else:\n",
    "        \n",
    "        result = sp.search(q=user_input, type='track', limit=1)\n",
    "        song_audio_features = sp.audio_features(result['tracks']['items'][0]['id'])\n",
    "        song_audio_features_df = pd.DataFrame(song_audio_features, columns=X_cont.columns)\n",
    "        song_scaled = pd.DataFrame(scaler.transform(song_audio_features_df))\n",
    "        song_disc = pd.DataFrame(song_audio_features, columns=['key','mode','time_signature'])\n",
    "        song_audio_features = pd.concat([song_scaled,song_disc], axis=1)\n",
    "        cl = kmeans.predict(song_audio_features)[0]\n",
    "        recommendation = df_all.iloc[songs_clustered[songs_clustered.cluster_id==cl].sample().index]\n",
    "\n",
    "        print(\"\"\"Your song is not in the Top 100.\\nThis match was found:\"\"\")\n",
    "        print(\"* \" + str(result['tracks']['items'][0]['name']) +\n",
    "              \" by \" +\n",
    "              str(result['tracks']['items'][0]['artists'][0]['name']))\n",
    "        print(\"Here's another one for you to check out:\")\n",
    "        print('* ' + str(recommendation.song_name.iloc[0]) +\n",
    "              \" by \"\n",
    "              + str([i for i in recommendation.artists.iloc[0]][0]))\n",
    "    pass"
   ]
  },
  {
   "cell_type": "markdown",
   "id": "empirical-valve",
   "metadata": {},
   "source": [
    "Execute"
   ]
  },
  {
   "cell_type": "code",
   "execution_count": 102,
   "id": "minimal-earthquake",
   "metadata": {},
   "outputs": [
    {
     "name": "stdout",
     "output_type": "stream",
     "text": [
      "\n",
      "    Enter your song's name. Example:\n",
      "    >>> where is love?\n",
      "    \n",
      "bohemian rhapsody\n",
      "Your song is not in the Top 100.\n",
      "This match was found:\n",
      "* Bohemian Rhapsody - Remastered 2011 by Queen\n",
      "Here's another one for you to check out:\n",
      "* Make Me (Cry) - Acoustic by Boreal\n"
     ]
    }
   ],
   "source": [
    "recommend()"
   ]
  },
  {
   "cell_type": "code",
   "execution_count": null,
   "id": "hungry-election",
   "metadata": {},
   "outputs": [],
   "source": []
  },
  {
   "cell_type": "code",
   "execution_count": null,
   "id": "olympic-minneapolis",
   "metadata": {},
   "outputs": [],
   "source": []
  }
 ],
 "metadata": {
  "kernelspec": {
   "display_name": "Python 3",
   "language": "python",
   "name": "python3"
  },
  "language_info": {
   "codemirror_mode": {
    "name": "ipython",
    "version": 3
   },
   "file_extension": ".py",
   "mimetype": "text/x-python",
   "name": "python",
   "nbconvert_exporter": "python",
   "pygments_lexer": "ipython3",
   "version": "3.7.9"
  }
 },
 "nbformat": 4,
 "nbformat_minor": 5
}
